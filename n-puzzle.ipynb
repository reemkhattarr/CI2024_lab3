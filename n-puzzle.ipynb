{
 "cells": [
  {
   "cell_type": "markdown",
   "metadata": {
    "vscode": {
     "languageId": "plaintext"
    }
   },
   "source": [
    "Copyright **`(c)`** 2024 Giovanni Squillero `<giovanni.squillero@polito.it>`  \n",
    "[`https://github.com/squillero/computational-intelligence`](https://github.com/squillero/computational-intelligence)  \n",
    "Free under certain conditions — see the [`license`](https://github.com/squillero/computational-intelligence/blob/master/LICENSE.md) for details.  "
   ]
  },
  {
   "cell_type": "code",
   "execution_count": 250,
   "metadata": {},
   "outputs": [],
   "source": [
    "from collections import namedtuple\n",
    "from random import choice\n",
    "from tqdm.auto import tqdm\n",
    "import numpy as np\n",
    "from heapq import heappush, heappop\n",
    "from typing import List, Callable, Tuple"
   ]
  },
  {
   "cell_type": "code",
   "execution_count": 251,
   "metadata": {},
   "outputs": [],
   "source": [
    "PUZZLE_DIM = 3\n",
    "Action = namedtuple('Action', ['pos1', 'pos2'])"
   ]
  },
  {
   "cell_type": "code",
   "execution_count": 252,
   "metadata": {},
   "outputs": [],
   "source": [
    "def available_actions(state: np.ndarray) -> list['Action']:\n",
    "    x, y = [int(_[0]) for _ in np.where(state == 0)]\n",
    "    actions = list()\n",
    "    if x > 0:\n",
    "        actions.append(Action((x, y), (x - 1, y)))\n",
    "    if x < PUZZLE_DIM - 1:\n",
    "        actions.append(Action((x, y), (x + 1, y)))\n",
    "    if y > 0:\n",
    "        actions.append(Action((x, y), (x, y - 1)))\n",
    "    if y < PUZZLE_DIM - 1:\n",
    "        actions.append(Action((x, y), (x, y + 1)))\n",
    "    return actions\n",
    "\n",
    "def do_action(state: np.ndarray, Action: 'Action') -> np.ndarray:\n",
    "    new_state = state.copy()\n",
    "    new_state[Action.pos1], new_state[Action.pos2] = new_state[Action.pos2], new_state[Action.pos1]\n",
    "    return new_state\n",
    "\n",
    "def is_goal(state: np.ndarray) -> bool:\n",
    "    return np.array_equal(state, np.array([i for i in range(1, PUZZLE_DIM**2)] + [0]).reshape((PUZZLE_DIM, PUZZLE_DIM)))"
   ]
  },
  {
   "cell_type": "code",
   "execution_count": 253,
   "metadata": {},
   "outputs": [
    {
     "data": {
      "application/vnd.jupyter.widget-view+json": {
       "model_id": "3e2bda1ccb1b48ea8d45def6a20944ba",
       "version_major": 2,
       "version_minor": 0
      },
      "text/plain": [
       "Randomizing:   0%|          | 0/100000 [00:00<?, ?it/s]"
      ]
     },
     "metadata": {},
     "output_type": "display_data"
    },
    {
     "name": "stdout",
     "output_type": "stream",
     "text": [
      "[[3 7 0]\n",
      " [5 2 4]\n",
      " [1 6 8]]\n",
      "False\n"
     ]
    }
   ],
   "source": [
    "RANDOMIZE_STEPS = 100_000\n",
    "\n",
    "def randomize_puzzle():\n",
    "    state = np.array([i for i in range(1, PUZZLE_DIM**2)] + [0]).reshape((PUZZLE_DIM, PUZZLE_DIM))\n",
    "    for r in tqdm(range(RANDOMIZE_STEPS), desc='Randomizing'):\n",
    "        state = do_action(state, choice(available_actions(state)))\n",
    "    return state\n",
    "\n",
    "state = randomize_puzzle()\n",
    "print(state)\n",
    "print(is_goal(state))"
   ]
  },
  {
   "cell_type": "code",
   "execution_count": 254,
   "metadata": {},
   "outputs": [
    {
     "name": "stdout",
     "output_type": "stream",
     "text": [
      "[[1 2 3]\n",
      " [4 5 6]\n",
      " [7 8 0]]\n",
      "True\n",
      "[[2 1 6]\n",
      " [4 5 3]\n",
      " [7 8 0]]\n",
      "False\n"
     ]
    }
   ],
   "source": [
    "state = np.array([i for i in range(1, PUZZLE_DIM**2)] + [0]).reshape((PUZZLE_DIM, PUZZLE_DIM))\n",
    "print(state)\n",
    "print(is_goal(state))\n",
    "state[0, 0], state[0, 1] = state[0, 1], state[0, 0]\n",
    "state[1, 2], state[0, 2] = state[0, 2], state[1, 2]\n",
    "\n",
    "print(state)\n",
    "print(is_goal(state))"
   ]
  },
  {
   "cell_type": "code",
   "execution_count": 255,
   "metadata": {},
   "outputs": [],
   "source": [
    "def manhattan_distance(state):\n",
    "    distance = 0\n",
    "    for i in range(PUZZLE_DIM):\n",
    "        for j in range(PUZZLE_DIM):\n",
    "            tile = state[i,j]\n",
    "            if tile != 0:\n",
    "                x, y = divmod(tile - 1, PUZZLE_DIM)\n",
    "                distance += abs(i - x) + abs(j - y)\n",
    "        \n",
    "    return distance\n"
   ]
  },
  {
   "cell_type": "code",
   "execution_count": 256,
   "metadata": {},
   "outputs": [],
   "source": [
    "def manhattan_distance_linear_conflict(state):\n",
    "    distance = 0\n",
    "    linear_conflict = 0\n",
    "    \n",
    "    goal_state = np.array([i for i in range(1, PUZZLE_DIM**2)] + [0]).reshape((PUZZLE_DIM, PUZZLE_DIM))\n",
    "    \n",
    "    for i in range(PUZZLE_DIM):\n",
    "        \n",
    "        row_conflict = []\n",
    "        for j in range(PUZZLE_DIM):\n",
    "            tile = state[i, j]\n",
    "            if tile != 0 and goal_state[i, j] != tile:\n",
    "                goal_row, goal_column = divmod(tile - 1, PUZZLE_DIM)\n",
    "                if goal_row == i:\n",
    "                    row_conflict.append((tile, goal_column))\n",
    "                    distance += abs(i - goal_row) + abs(j - goal_column)\n",
    "                    \n",
    "        linear_conflict += count_linear_conflicts(row_conflict)\n",
    "        \n",
    "        column_conflict = []\n",
    "        for i in range(PUZZLE_DIM):\n",
    "            tile = state[j,i]\n",
    "            if tile != 0 and goal_state[j, i] != tile:\n",
    "                goal_row, goal_column = divmod(tile - 1, PUZZLE_DIM)\n",
    "                if goal_column == i:\n",
    "                    column_conflict.append((tile, goal_row))\n",
    "                    distance += abs(j - goal_row) + abs(i - goal_column)\n",
    "                    \n",
    "        linear_conflict += count_linear_conflicts(column_conflict)\n",
    "        \n",
    "    return distance + 2 * linear_conflict\n",
    "\n",
    "\n",
    "def count_linear_conflicts(conflict_list: list[tuple[int, int]]) -> int:\n",
    "    \n",
    "    conflict_count = 0\n",
    "    for i in range(len(conflict_list)):\n",
    "        tile1, goal_pos1 = conflict_list[i]\n",
    "        for j in range(i+1, len(conflict_list)):\n",
    "            tile2, goal_pos2 = conflict_list[j]\n",
    "            if goal_pos1 > goal_pos2:\n",
    "                conflict_count+=1\n",
    "    return conflict_count"
   ]
  },
  {
   "cell_type": "code",
   "execution_count": 257,
   "metadata": {},
   "outputs": [
    {
     "name": "stdout",
     "output_type": "stream",
     "text": [
      "[[1 2 3]\n",
      " [4 5 6]\n",
      " [7 8 0]] [[1 3 2]\n",
      " [4 5 6]\n",
      " [7 8 0]]\n",
      "2\n"
     ]
    }
   ],
   "source": [
    "goal_state = np.array([i for i in range(1, PUZZLE_DIM**2)] + [0]).reshape((PUZZLE_DIM, PUZZLE_DIM))\n",
    "\n",
    "state = goal_state.copy()\n",
    "state[0,1], state[0,2] = state[0,2], state[0,1]\n",
    "print(goal_state, state)\n",
    "\n",
    "distance = manhattan_distance(state)\n",
    "print(distance)"
   ]
  },
  {
   "cell_type": "code",
   "execution_count": 258,
   "metadata": {},
   "outputs": [],
   "source": [
    "def reconstruct_path(cameFrom: dict, current_tuple: Tuple[int], shape: Tuple[int]) -> List[np.ndarray]:\n",
    "    path = []\n",
    "    while current_tuple in cameFrom:\n",
    "        path.append(tuple_to_state(current_tuple, shape))\n",
    "        current_tuple = cameFrom[current_tuple]\n",
    "    path.reverse()\n",
    "    return path\n",
    "\n",
    "\n",
    "def state_to_tuple(state: np.ndarray) -> Tuple[int]:\n",
    "    return tuple(state.flatten())\n",
    "\n",
    "# Convert tuple back to state\n",
    "def tuple_to_state(state_tuple: Tuple[int], shape: Tuple[int]) -> np.ndarray:\n",
    "    return np.array(state_tuple).reshape(shape)\n",
    "\n",
    "# A* Algorithm\n",
    "def a_star(start_state: np.ndarray, heuristic: Callable[[np.ndarray], int]) -> List[np.ndarray]:\n",
    "    # Priority queue (open set)\n",
    "    priority_queue = []\n",
    "    visited = set()\n",
    "    start_tuple = state_to_tuple(start_state)\n",
    "    \n",
    "    goal_state = np.array([i for i in range(1, PUZZLE_DIM**2)] + [0]).reshape((PUZZLE_DIM, PUZZLE_DIM))\n",
    "    goal_tuple = state_to_tuple(goal_state)\n",
    "\n",
    "    # Initialize g and f\n",
    "    g = {start_tuple: 0}\n",
    "    f = {start_tuple: heuristic(start_state)}\n",
    "    came_from = {}\n",
    "\n",
    "    # Add the start state to the priority queue\n",
    "    heappush(priority_queue, (f[start_tuple], start_tuple))\n",
    "\n",
    "    while priority_queue:\n",
    "        # Get state with the lowest f\n",
    "        _, current_tuple = heappop(priority_queue)\n",
    "        current_state = tuple_to_state(current_tuple, start_state.shape)\n",
    "\n",
    "        # Goal test\n",
    "        if is_goal(current_state):\n",
    "            return reconstruct_path(came_from, current_tuple, start_state.shape)\n",
    "\n",
    "        if current_tuple in visited:\n",
    "            continue\n",
    "        visited.add(current_tuple)\n",
    "        \n",
    "        # Explore neighbors\n",
    "        for action in available_actions(current_state):\n",
    "            neighbor = do_action(current_state, action)\n",
    "            neighbor_tuple = state_to_tuple(neighbor)\n",
    "\n",
    "            g_score = g[current_tuple] + 1  # Cost of moving to the neighbor\n",
    "\n",
    "            if g_score < g.get(neighbor_tuple, float('inf')):\n",
    "                # Record best path so far\n",
    "                came_from[neighbor_tuple] = current_tuple\n",
    "                g[neighbor_tuple] = g_score\n",
    "                f[neighbor_tuple] = g_score + heuristic(neighbor)\n",
    "\n",
    "                if neighbor_tuple not in visited:\n",
    "                    heappush(priority_queue, (f[neighbor_tuple], neighbor_tuple))\n",
    "                # Add to open set if not already there\n",
    "                \n",
    "                # if neighbor_tuple not in [item[1] for item in priority_queue]:\n",
    "                #     heappush(priority_queue, (f[neighbor_tuple], neighbor_tuple))\n",
    "\n",
    "    return None  # No solution found"
   ]
  },
  {
   "cell_type": "code",
   "execution_count": 259,
   "metadata": {},
   "outputs": [
    {
     "data": {
      "application/vnd.jupyter.widget-view+json": {
       "model_id": "ee1b728798f248b9ba8d87950291a322",
       "version_major": 2,
       "version_minor": 0
      },
      "text/plain": [
       "Randomizing:   0%|          | 0/100000 [00:00<?, ?it/s]"
      ]
     },
     "metadata": {},
     "output_type": "display_data"
    },
    {
     "name": "stdout",
     "output_type": "stream",
     "text": [
      "16 steps\n"
     ]
    }
   ],
   "source": [
    "state = randomize_puzzle()\n",
    "result = a_star(state, manhattan_distance_linear_conflict)\n",
    "print(len(result), 'steps')\n"
   ]
  },
  {
   "cell_type": "code",
   "execution_count": 260,
   "metadata": {},
   "outputs": [],
   "source": [
    "# def solve_puzzle(start_state):\n",
    "#     # Priority queue (min-heap), stores (f_cost, state, path_to_reach_state, g_cost)\n",
    "#     priority_queue = []\n",
    "#     heappush(priority_queue, (manhattan_distance_linear_conflict(start_state), tuple(start_state.flatten()), [], 0))\n",
    "    \n",
    "#     visited = set()\n",
    "\n",
    "#     while priority_queue:\n",
    "#         f_cost, current_state_tuple, path, g_cost = heappop(priority_queue)\n",
    "#         current_state = np.array(current_state_tuple).reshape(PUZZLE_DIM, PUZZLE_DIM)  # Convert tuple back to numpy array\n",
    "\n",
    "#         # If we reach the goal state, return the path\n",
    "#         if is_goal(current_state):\n",
    "#             return path\n",
    "        \n",
    "#         # If already visited, skip this state\n",
    "#         if current_state_tuple in visited:\n",
    "#             continue\n",
    "#         visited.add(current_state_tuple)\n",
    "        \n",
    "#         # Explore all valid actions\n",
    "#         for act in available_actions(current_state):\n",
    "#             new_state = do_action(current_state, act)\n",
    "#             new_g_cost = g_cost + 1\n",
    "#             new_h_cost = manhattan_distance_linear_conflict(new_state)\n",
    "#             new_f_cost = new_g_cost + new_h_cost\n",
    "#             new_path = path + [act]\n",
    "#             new_state_tuple = tuple(new_state.flatten())  # Convert the new state to tuple\n",
    "\n",
    "#             # Add the new state to the priority queue\n",
    "#             heappush(priority_queue, (new_f_cost, new_state_tuple, new_path, new_g_cost))\n",
    "\n",
    "#     return None  # No solution found"
   ]
  },
  {
   "cell_type": "code",
   "execution_count": 261,
   "metadata": {},
   "outputs": [],
   "source": [
    "# start_state = randomize_puzzle()\n",
    "# print(\"Start state:\")\n",
    "# print(start_state)\n",
    "\n",
    "# solution = solve_puzzle(start_state)\n",
    "# if solution:\n",
    "#     print(f\"Solution found in {len(solution)} steps:\")\n",
    "#     #for action in solution:\n",
    "#         #print(action)\n",
    "# else:\n",
    "#     print(\"No solution found\")"
   ]
  }
 ],
 "metadata": {
  "kernelspec": {
   "display_name": "VENV",
   "language": "python",
   "name": "python3"
  },
  "language_info": {
   "codemirror_mode": {
    "name": "ipython",
    "version": 3
   },
   "file_extension": ".py",
   "mimetype": "text/x-python",
   "name": "python",
   "nbconvert_exporter": "python",
   "pygments_lexer": "ipython3",
   "version": "3.12.7"
  }
 },
 "nbformat": 4,
 "nbformat_minor": 2
}
